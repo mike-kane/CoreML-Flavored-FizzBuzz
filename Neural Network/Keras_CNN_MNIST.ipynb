{
 "cells": [
  {
   "cell_type": "code",
   "execution_count": 16,
   "metadata": {
    "collapsed": false
   },
   "outputs": [],
   "source": [
    "from keras.datasets import mnist\n",
    "from keras.models import Sequential\n",
    "from keras.layers import Convolution2D, MaxPooling2D, Dropout, Dense, Flatten, Activation\n",
    "from keras.utils import np_utils\n",
    "from keras import models\n",
    "\n",
    "# Let's load our data set straight from Keras to save time.\n",
    "# It's already split into training and testing, too!\n",
    "(X_train, y_train), (X_test, y_test) = mnist.load_data()\n",
    "\n",
    "# We're going to resize everything to 28 by 28, so lets set that size\n",
    "img_width = 28\n",
    "img_height = 28\n",
    "\n",
    "#  Now we need to reshape our training and testing data.\n",
    "#  We'll explicitly set the data type as a 32bit float\n",
    "# Then we'll divide everything by 255.\n",
    "X_train = X_train.astype(\"float32\")\n",
    "X_train /= 255.\n",
    "X_test = X_test.astype(\"float32\")\n",
    "X_test /= 255.\n",
    "\n",
    "# Now we'll finish data preparation by reshaping our image data\n",
    "X_train = X_train.reshape(X_train.shape[0], img_width, img_height, 1)\n",
    "X_test = X_test.reshape(X_test.shape[0], img_width, img_height, 1)\n",
    "\n",
    "\n",
    "# Now we need to reshape our labels for one-hot encoding.\n",
    "y_train = np_utils.to_categorical(y_train)\n",
    "y_test = np_utils.to_categorical(y_test)\n",
    "num_classes = y_test.shape[1]\n",
    "\n",
    "# #  We're done with data manipulation--let's set up our model!\n",
    "# #  First, we'll create our model object.\n",
    "# model = Sequential()\n",
    "# #  Now, we'll add a 2D Convolutional Neural Network.\n",
    "# model.add(Convolution2D(8, 5, 5, input_shape=(img_width, img_height, 1), activation=\"relu\"))\n",
    "# model.add(MaxPooling2D(pool_size=(2,2)))\n",
    "# model.add(Dropout(0.2))\n",
    "# model.add(Flatten())\n",
    "# model.add(Dense(32, activation=\"relu\"))\n",
    "# model.add(Dense(num_classes, activation=\"softmax\"))\n",
    "# # TODO:  Port code to python2 so that it will work with CoreML\n",
    "# # TODO:  Add comments explaining methodology for rest of model\n",
    "# # TODO:  Export model with CoreML library.\n",
    "# model.compile(loss='categorical_crossentropy', optimizer='adam', metrics=[\"accuracy\"])\n",
    "# model.summary()\n",
    "# model.fit(X_train, y_train, batch_size=128, nb_epoch=2, validation_data=(X_test, y_test))\n",
    "# models.save_model(model, 'keras_mnist.h5')"
   ]
  },
  {
   "cell_type": "code",
   "execution_count": 22,
   "metadata": {
    "collapsed": false
   },
   "outputs": [
    {
     "name": "stdout",
     "output_type": "stream",
     "text": [
      "Train on 60000 samples, validate on 10000 samples\n",
      "Epoch 1/12\n",
      "60000/60000 [==============================] - 31s - loss: 0.5022 - acc: 0.8404 - val_loss: 0.1213 - val_acc: 0.9640\n",
      "Epoch 2/12\n",
      "60000/60000 [==============================] - 30s - loss: 0.2014 - acc: 0.9392 - val_loss: 0.0917 - val_acc: 0.9708\n",
      "Epoch 3/12\n",
      "60000/60000 [==============================] - 30s - loss: 0.1678 - acc: 0.9507 - val_loss: 0.0761 - val_acc: 0.9755\n",
      "Epoch 4/12\n",
      "60000/60000 [==============================] - 30s - loss: 0.1454 - acc: 0.9565 - val_loss: 0.0671 - val_acc: 0.9779\n",
      "Epoch 5/12\n",
      "60000/60000 [==============================] - 31s - loss: 0.1286 - acc: 0.9626 - val_loss: 0.0616 - val_acc: 0.9803\n",
      "Epoch 6/12\n",
      "60000/60000 [==============================] - 29s - loss: 0.1179 - acc: 0.9647 - val_loss: 0.0551 - val_acc: 0.9828\n",
      "Epoch 7/12\n",
      "60000/60000 [==============================] - 30s - loss: 0.1084 - acc: 0.9673 - val_loss: 0.0509 - val_acc: 0.9836\n",
      "Epoch 8/12\n",
      "60000/60000 [==============================] - 31s - loss: 0.1027 - acc: 0.9691 - val_loss: 0.0474 - val_acc: 0.9851\n",
      "Epoch 9/12\n",
      "60000/60000 [==============================] - 31s - loss: 0.0967 - acc: 0.9712 - val_loss: 0.0448 - val_acc: 0.9856\n",
      "Epoch 10/12\n",
      "60000/60000 [==============================] - 31s - loss: 0.0910 - acc: 0.9730 - val_loss: 0.0432 - val_acc: 0.9857\n",
      "Epoch 11/12\n",
      "60000/60000 [==============================] - 31s - loss: 0.0855 - acc: 0.9738 - val_loss: 0.0407 - val_acc: 0.9862\n",
      "Epoch 12/12\n",
      "60000/60000 [==============================] - 31s - loss: 0.0789 - acc: 0.9764 - val_loss: 0.0388 - val_acc: 0.9871\n",
      "('Test score:', 0.038784720050153557)\n",
      "('Test accuracy:', 0.98709999999999998)\n"
     ]
    }
   ],
   "source": [
    "model = Sequential()\n",
    "\n",
    "model.add(Convolution2D(8, 5, 5, border_mode='valid', input_shape=(img_width, img_height, 1)))\n",
    "model.add(Activation('relu'))\n",
    "model.add(Convolution2D(8, 5, 5))\n",
    "model.add(Activation('relu'))\n",
    "model.add(MaxPooling2D(pool_size=(2, 2)))\n",
    "model.add(Dropout(0.25))\n",
    "model.add(Flatten())\n",
    "model.add(Dense(128))\n",
    "model.add(Activation('relu'))\n",
    "model.add(Dropout(0.5))\n",
    "model.add(Dense(num_classes))\n",
    "model.add(Activation('softmax'))\n",
    "\n",
    "model.compile(loss='categorical_crossentropy',\n",
    "              optimizer='adadelta',\n",
    "              metrics=['accuracy'])\n",
    "\n",
    "model.fit(X_train, y_train, batch_size=128, nb_epoch=12,\n",
    "          verbose=1, validation_data=(X_test, y_test))\n",
    "score = model.evaluate(X_test, y_test, verbose=0)\n",
    "print('Test score:', score[0])\n",
    "print('Test accuracy:', score[1])\n",
    "models.save_model(model,'mnist_cnn_keras_122.h5')"
   ]
  },
  {
   "cell_type": "code",
   "execution_count": 23,
   "metadata": {
    "collapsed": false
   },
   "outputs": [
    {
     "name": "stderr",
     "output_type": "stream",
     "text": [
      "WARNING:root:TensorFlow version 1.2.0 detected. Last version known to be fully compatible is 1.1.1 .\n"
     ]
    }
   ],
   "source": [
    "import coremltools"
   ]
  },
  {
   "cell_type": "code",
   "execution_count": 24,
   "metadata": {
    "collapsed": false
   },
   "outputs": [
    {
     "name": "stdout",
     "output_type": "stream",
     "text": [
      "0 : convolution2d_input_16, <keras.engine.topology.InputLayer object at 0x1290998d0>\n",
      "1 : convolution2d_3, <keras.layers.convolutional.Convolution2D object at 0x1290997d0>\n",
      "2 : convolution2d_3__activation__, <keras.layers.core.Activation object at 0x129817f90>\n",
      "3 : maxpooling2d_3, <keras.layers.pooling.MaxPooling2D object at 0x1290a55d0>\n",
      "4 : flatten_3, <keras.layers.core.Flatten object at 0x129099d90>\n",
      "5 : dense_5, <keras.layers.core.Dense object at 0x1290e5a90>\n",
      "6 : dense_5__activation__, <keras.layers.core.Activation object at 0x1297abe10>\n",
      "7 : dense_6, <keras.layers.core.Dense object at 0x129167690>\n",
      "8 : dense_6__activation__, <keras.layers.core.Activation object at 0x1297abc90>\n"
     ]
    }
   ],
   "source": [
    "coreml_model = coremltools.converters.keras.convert('keras_mnist.h5')"
   ]
  },
  {
   "cell_type": "code",
   "execution_count": 25,
   "metadata": {
    "collapsed": true
   },
   "outputs": [],
   "source": [
    "coreml_model.save('keras_mnist.mlmodel')"
   ]
  },
  {
   "cell_type": "code",
   "execution_count": 26,
   "metadata": {
    "collapsed": false
   },
   "outputs": [
    {
     "data": {
      "text/plain": [
       "input {\n",
       "  name: \"input1\"\n",
       "  type {\n",
       "    multiArrayType {\n",
       "      shape: 1\n",
       "      shape: 28\n",
       "      shape: 28\n",
       "      dataType: DOUBLE\n",
       "    }\n",
       "  }\n",
       "}\n",
       "output {\n",
       "  name: \"output1\"\n",
       "  type {\n",
       "    multiArrayType {\n",
       "      shape: 10\n",
       "      dataType: DOUBLE\n",
       "    }\n",
       "  }\n",
       "}"
      ]
     },
     "execution_count": 26,
     "metadata": {},
     "output_type": "execute_result"
    }
   ],
   "source": [
    "coreml_model"
   ]
  },
  {
   "cell_type": "code",
   "execution_count": null,
   "metadata": {
    "collapsed": true
   },
   "outputs": [],
   "source": []
  }
 ],
 "metadata": {
  "anaconda-cloud": {},
  "kernelspec": {
   "display_name": "Python [conda env:udacity-p2]",
   "language": "python",
   "name": "conda-env-udacity-p2-py"
  },
  "language_info": {
   "codemirror_mode": {
    "name": "ipython",
    "version": 2
   },
   "file_extension": ".py",
   "mimetype": "text/x-python",
   "name": "python",
   "nbconvert_exporter": "python",
   "pygments_lexer": "ipython2",
   "version": "2.7.13"
  }
 },
 "nbformat": 4,
 "nbformat_minor": 1
}
